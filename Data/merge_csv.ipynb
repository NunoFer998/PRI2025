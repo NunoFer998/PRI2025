{
 "cells": [
  {
   "cell_type": "code",
   "execution_count": 8,
   "id": "1ca66d1d",
   "metadata": {},
   "outputs": [],
   "source": [
    "import pandas as pd\n",
    "\n",
    "symptoms_separated1 = pd.read_csv(\"disease_symptom_list.csv\", header=None, names=[\"disease\", \"symptoms\"])\n",
    "symptoms_separated1 = symptoms_separated1.assign(symptom=symptoms_separated1['symptoms'].str.split(', ')).explode('symptom')\n",
    "symptoms_separated1['symptom'] = symptoms_separated1['symptom'].str.strip()\n",
    "symptoms_separated1 = symptoms_separated1.drop(columns=['symptoms'])\n",
    "symptoms_separated1.to_csv(\"symptoms_separated.csv\", index=False)\n",
    "\n",
    "symptoms_separated2 = pd.read_csv(\"diseases_with_symptoms.csv\", header=None, names=[\"disease\", \"symptoms\"])\n",
    "symptoms_separated2 = symptoms_separated2.assign(symptom=symptoms_separated2['symptoms'].str.split(', ')).explode('symptom')\n",
    "symptoms_separated2['symptom'] = symptoms_separated2['symptom'].str.strip()\n",
    "symptoms_separated2 = symptoms_separated2.drop(columns=['symptoms'])\n",
    "symptoms_separated2.to_csv(\"symptoms_separated2.csv\", index=False)\n"
   ]
  },
  {
   "cell_type": "code",
   "execution_count": 9,
   "id": "492d6c50",
   "metadata": {},
   "outputs": [
    {
     "data": {
      "text/plain": [
       "symptom\n",
       "sharp abdominal pain          135\n",
       "headache                      116\n",
       "sharp chest pain              104\n",
       "shortness of breath           101\n",
       "cough                         100\n",
       "                             ... \n",
       "wrinkles on skin                1\n",
       "wrist lump or mass              1\n",
       "hip stiffness or tightness      1\n",
       "incontinence of stool           1\n",
       "bedwetting                      1\n",
       "Name: count, Length: 334, dtype: int64"
      ]
     },
     "execution_count": 9,
     "metadata": {},
     "output_type": "execute_result"
    }
   ],
   "source": [
    "symptoms_separated1['symptom'].value_counts()"
   ]
  },
  {
   "cell_type": "code",
   "execution_count": 10,
   "id": "380348bb",
   "metadata": {},
   "outputs": [
    {
     "data": {
      "text/plain": [
       "symptom\n",
       "5                57989\n",
       "6                51116\n",
       "4                47283\n",
       "7                34037\n",
       "3                25451\n",
       "8                16425\n",
       "2                 6448\n",
       "9                 5980\n",
       "10                1534\n",
       "1                  443\n",
       "11                 231\n",
       "12                   8\n",
       "symptom_count        1\n",
       "Name: count, dtype: int64"
      ]
     },
     "execution_count": 10,
     "metadata": {},
     "output_type": "execute_result"
    }
   ],
   "source": [
    "symptoms_separated2['symptom'].value_counts()"
   ]
  }
 ],
 "metadata": {
  "kernelspec": {
   "display_name": "base",
   "language": "python",
   "name": "python3"
  },
  "language_info": {
   "codemirror_mode": {
    "name": "ipython",
    "version": 3
   },
   "file_extension": ".py",
   "mimetype": "text/x-python",
   "name": "python",
   "nbconvert_exporter": "python",
   "pygments_lexer": "ipython3",
   "version": "3.11.5"
  }
 },
 "nbformat": 4,
 "nbformat_minor": 5
}
