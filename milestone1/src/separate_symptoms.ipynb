{
 "cells": [
  {
   "cell_type": "code",
   "execution_count": 24,
   "id": "1ca66d1d",
   "metadata": {},
   "outputs": [],
   "source": [
    "import pandas as pd\n",
    "\n",
    "symptoms_separated1 = pd.read_csv(\"../data/disease_symptom_list.csv\")\n",
    "symptoms_separated1 = symptoms_separated1.assign(symptom=symptoms_separated1['symptoms'].str.split(', ')).explode('symptom')\n",
    "symptoms_separated1['symptom'] = symptoms_separated1['symptom'].str.strip()\n",
    "symptoms_separated1 = symptoms_separated1.drop(columns=['symptoms'])\n",
    "symptoms_separated1.to_csv(\"../data/symptoms_separated.csv\", index=False)\n",
    "\n",
    "symptoms_separated2 = pd.read_csv(\"../data/diseases_with_symptoms.csv\")\n",
    "symptoms_separated2 = symptoms_separated2.assign(symptom=symptoms_separated2['symptoms'].str.split(', ')).explode('symptom')\n",
    "symptoms_separated2['symptom'] = symptoms_separated2['symptom'].str.strip()\n",
    "symptoms_separated2 = symptoms_separated2[['disease', 'symptom']]\n",
    "symptoms_separated2.to_csv(\"../data/symptoms_separated2.csv\", index=False)"
   ]
  },
  {
   "cell_type": "code",
   "execution_count": 25,
   "id": "492d6c50",
   "metadata": {},
   "outputs": [
    {
     "data": {
      "text/plain": [
       "symptom\n",
       "sharp abdominal pain          135\n",
       "headache                      116\n",
       "sharp chest pain              104\n",
       "shortness of breath           101\n",
       "cough                         100\n",
       "                             ... \n",
       "wrist lump or mass              1\n",
       "hip stiffness or tightness      1\n",
       "incontinence of stool           1\n",
       "skin pain                       1\n",
       "bedwetting                      1\n",
       "Name: count, Length: 333, dtype: int64"
      ]
     },
     "execution_count": 25,
     "metadata": {},
     "output_type": "execute_result"
    }
   ],
   "source": [
    "symptoms_separated1['symptom'].value_counts()"
   ]
  },
  {
   "cell_type": "code",
   "execution_count": 26,
   "id": "380348bb",
   "metadata": {},
   "outputs": [
    {
     "name": "stdout",
     "output_type": "stream",
     "text": [
      "          disease                           symptom\n",
      "0  panic disorder           anxiety and nervousness\n",
      "0  panic disorder               shortness of breath\n",
      "0  panic disorder  depressive or psychotic symptoms\n",
      "0  panic disorder                   chest tightness\n",
      "0  panic disorder                      palpitations\n"
     ]
    }
   ],
   "source": [
    "print(symptoms_separated2.head())"
   ]
  },
  {
   "cell_type": "code",
   "execution_count": 27,
   "id": "cbe9a04a",
   "metadata": {},
   "outputs": [
    {
     "name": "stdout",
     "output_type": "stream",
     "text": [
      "                          disease                           symptom\n",
      "0                  panic disorder           anxiety and nervousness\n",
      "1                  panic disorder                        depression\n",
      "2                  panic disorder               shortness of breath\n",
      "3                  panic disorder  depressive or psychotic symptoms\n",
      "4                  panic disorder                         dizziness\n",
      "...                           ...                               ...\n",
      "5462  conjunctivitis due to virus                       swollen eye\n",
      "5463       open wound of the nose                diminished hearing\n",
      "5464       open wound of the nose                          headache\n",
      "5465       open wound of the nose                       facial pain\n",
      "5466       open wound of the nose                         nosebleed\n",
      "\n",
      "[5467 rows x 2 columns]\n"
     ]
    }
   ],
   "source": [
    "separated_symptoms1 = pd.read_csv(\"../data/symptoms_separated.csv\")\n",
    "separated_symptoms2 = pd.read_csv(\"../data/symptoms_separated2.csv\")\n",
    "\n",
    "# Merge both CSVs\n",
    "all_separated_symptoms = pd.concat([separated_symptoms1, separated_symptoms2], ignore_index=True)\n",
    "# Remove duplicates\n",
    "all_separated_symptoms = all_separated_symptoms.drop_duplicates()\n",
    "all_separated_symptoms.to_csv(\"../data/clean/all_separated_symptoms.csv\", index=False)\n",
    "print(all_separated_symptoms)"
   ]
  },
  {
   "cell_type": "code",
   "execution_count": null,
   "id": "f191f3d3",
   "metadata": {},
   "outputs": [
    {
     "name": "stdout",
     "output_type": "stream",
     "text": [
      "panic disordervocal cord polypturner syndromecryptorchidismpoisoning due to ethylene glycolatrophic vaginitisfracture of the handcellulitis or abscess of moutheye alignment disorderheadache after lumbar puncturepyloric stenosissalivary gland disorderosteochondrosisinjury to the kneemetabolic disordervaginitissick sinus syndrometinnitus of unknown causeglaucomaeating disordertransient ischemic attackpyelonephritisrotator cuff injurychronic pain disorderproblem during pregnancyliver canceratelectasisinjury to the handcholedocholithiasisinjury to the hipcirrhosisthoracic aortic aneurysmsubdural hemorrhagediabetic retinopathyfibromyalgiaischemia of the bowelfetal alcohol syndromeperitonitisinjury to the abdomenacute pancreatitisthrombophlebitisasthmaforeign body in the vaginarestless leg syndromeemphysemacysticercosisinduced abortionteething syndromeinfectious gastroenteritisacute sinusitissubstance-related mental disorderpostpartum depressioncoronary atherosclerosisspondylitispituitary adenomauterine fibroidsidiopathic nonmenstrual bleedingchalazionovarian torsionretinopathy due to high blood pressurevaginal yeast infectionmastoiditislung contusionhypertrophic obstructive cardiomyopathy (hocm)ingrown toe nailpulmonary eosinophiliacorneal disorderforeign body in the gastrointestinal tractendophthalmitisintestinal malabsorptionviral wartshyperhidrosisstrokepilonidal cystcrushing injurynormal pressure hydrocephalusalopeciahashimoto thyroiditisflat feetnonalcoholic liver disease (nash)hemarthrosispelvic organ prolapsefracture of the armcoagulation (bleeding) disorderintracranial hemorrhagehyperkalemiacornea infectionabscess of the lungdengue feverchronic sinusitischolesteatomavolvulusinjury to the fingerpoisoning due to analgesicsatrial fibrillationpinworm infectionurethral valvesopen wound of the neckachalasiaconductive hearing lossabdominal herniacerebral palsymarijuana abusecryptococcosisobesityindigestionbursitisesophageal cancerpulmonary congestionjuvenile rheumatoid arthritisactinic keratosisacute otitis mediaastigmatismtuberous sclerosisempyemapresbyacusisneonatal jaundicechronic obstructive pulmonary disease (copd)dislocation of the elbowspondylosisherpanginainjury to the shoulderpoisoning due to antidepressantsinfection of open wounddeep vein thrombosis (dvt)protein deficiencymyoclonusbone spur of the calcaneousvon willebrand diseaseopen wound of the backheart blockcolonic polypmagnesium deficiencyfemale infertility of unknown causepericarditisattention deficit hyperactivity disorder (adhd)pulmonic valve diseasetietze syndromecranial nerve palsyinjury to the armconversion disordercomplex regional pain syndromeotosclerosisinjury to the trunkhypothyroidismprimary insomnialicevitamin b12 deficiencydiabetesvulvodyniaendometriosisvasculitisconcussionoral leukoplakiachronic kidney diseasebladder disorderchorioretinitispriapismmyositismononucleosisneuralgiapolycystic kidney diseasebipolar disorderamyloidosischronic inflammatory demyelinating polyneuropathy (cidp)gastroesophageal reflux disease (gerd)vitreous hemorrhagepoisoning due to antimicrobial drugsopen wound of the mouthsclerodermamyasthenia gravishypoglycemiaidiopathic absence of menstruationdislocation of the anklecarbon monoxide poisoningpanic attackplantar fasciitishyperopiapoisoning due to sedativespemphiguspeyronie diseasehiatal herniaextrapyramidal effect of drugsmeniere diseaseanal fissureallergychronic otitis mediafracture of the fingerhirschsprung diseasepolymyalgia rheumaticalymphedemabladder canceracute bronchospasmacute glaucomaopen wound of the chestdislocation of the patellasciaticahypercalcemiastress incontinencevaricose veinsbenign kidney cysthydrocele of the testicledegenerative disc diseasehirsutismdislocation of the foothydronephrosisdiverticulosispain after an operationhuntington diseaselymphomadermatitis due to sun exposureanemia due to chronic kidney diseaseinjury to internal organscleritispterygiumfungal infection of the skininsulin overdosesyndrome of inappropriate secretion of adh (siadh)foreign body in the earpremenstrual tension syndromeorbital cellulitisinjury to the leghepatic encephalopathybone cancersyringomyeliapulmonary fibrosismitral valve diseaseparkinson diseasegoutotitis mediadrug abuse (opioids)myelodysplastic syndromefracture of the shoulderacute kidney injurythreatened pregnancyintracranial abscessgum diseaseopen wound from surgical incisiongastrointestinal hemorrhageseborrheic dermatitisdrug abuse (methamphetamine)torticollispoisoning due to antihypertensivestension headachealcohol intoxicationscurvynarcolepsyfood allergylabyrinthitisanxietyimpulse control disorderstenosis of the tear ductabscess of noseomphalitisleukemiabell palsyconjunctivitis due to allergydrug reactionadrenal cancermyopiaosteoarthritisthyroid diseasepharyngitischronic rheumatic feverhypocalcemiamacular degenerationpneumoniacold sorepremature ventricular contractions (pvcs)testicular cancerhydrocephalusbreast canceranemia due to malignancyesophageal varicesendometrial cancercystic fibrosisintertrigo (skin condition)parathyroid adenomaglucocorticoid deficiencytemporomandibular joint disorderwilson diseasevesicoureteral refluxvitamin a deficiencygonorrheafracture of the ribependymomahepatitis due to a toxinvaginal cystopen wound of the shoulderectopic pregnancychronic knee painpingueculahypergammaglobulinemiaalcohol abusecarpal tunnel syndromepituitary disorderkidney stoneautismcat scratch diseasechronic glaucomaretinal detachmentaplastic anemiaoverflow incontinencehemolytic anemialateral epicondylitis (tennis elbow)open wound of the eyesyphilisdiabetic kidney diseasenose disorderdrug withdrawaldental carieshypercholesterolemiafracture of the patellakidney failurefracture of the neckmuscle spasmhemophiliahyperosmotic hyperketotic stateperitonsillar abscessgastroparesisitching of unknown causepolycythemia verathrombocytopeniahead and neck cancerpseudohypoparathyroidismgoiterurge incontinenceedward syndromeopen wound of the armmuscular dystrophymittelschmerzcorneal abrasionanemia of chronic diseasedysthymic disorderscarlet feverhypertensive heart diseasedrug abuse (barbiturates)polycystic ovarian syndrome (pcos)encephalitiscyst of the eyelidbalanitisforeign body in the throatdrug abuse (cocaine)optic neuritisalcohol withdrawalpremature atrial contractions (pacs)hemiplegiahammer toeopen wound of the cheekjoint effusionopen wound of the kneemeningiomabrain cancerplacental abruptionseasonal allergies (hay fever)lung cancerprimary kidney diseaseuterine cancerdry eye of unknown causefibrocystic breast diseasefungal infection of the hairtooth abscessenvenomation from spider or animal bitevacterl syndromevertebrobasilar insufficiencyrectal disorderatonic bladderbenign paroxysmal positional vertical (bppv)blepharospasmsarcoidosismetastatic cancertrigger finger (finger disorder)styehemochromatosisosteochondromacushing syndrometyphoid fevervitreous degenerationatrophic skin conditionaspergillosisuterine atonytrichinosiswhooping coughopen wound of the lipsubacute thyroiditisoral mucosal lesionopen wound due to traumaintracerebral hemorrhagealzheimer diseasevaginismussystemic lupus erythematosis (sle)premature ovarian failurethoracic outlet syndromeganglion cystdislocation of the kneecrohn diseasepostoperative infectionfolate deficiencyfluid overloadatrial flutterskin disorderfloaterstooth disorderheart attackopen wound of the abdomenfracture of the legoral thrush (yeast infection)pityriasis roseaallergy to animalsorthostatic hypotensionobstructive sleep apnea (osa)hypokalemiapsoriasisdislocation of the shoulderintussusceptioncervicitisabscess of the pharynxprimary thrombocythemiaarthritis of the hipdecubitus ulcerhypernatremiasensorineural hearing losschronic ulcerosteoporosisileussickle cell crisisurethritisprostatitisotitis externa (swimmer's ear)poisoning due to anticonvulsantstesticular torsiontricuspid valve diseaseurethral stricturevitamin d deficiencyhydatidiform molepain disorder affecting the necktuberculosispelvic fistulaacute bronchiolitispresbyopiadementiainsect biteparoxysmal ventricular tachycardiacongenital heart defectconnective tissue disorderforeign body in the eyepoisoning due to gaspyogenic skin infectionendometrial hyperplasiaacanthosis nigricanscentral atherosclerosisviral exanthemnoninfectious gastroenteritisbenign prostatic hyperplasia (bph)menopauseprimary immunodeficiencyovarian cancercataractdislocation of the hipspinal stenosisintestinal obstructionheart contusioncongenital malformation syndromesporotrichosislymphangitiswernicke korsakoff syndromeintestinal diseaseacute bronchitispersistent vomiting of unknown causeopen wound of the footmyocarditispreeclampsiaischemic heart diseaseneurofibromatosischickenpoxpancreatic cancerneuropathy due to drugscroupidiopathic excessive menstruationamblyopiameckel diverticulumdislocation of the wristear drum damageerectile dysfunctiontemporary or benign blood in urinekidney disease due to longstanding hypertensionchondromalacia of the patellaonychomycosisurethral disorderlyme diseaseiron deficiency anemiaacute respiratory distress syndrome (ards)toxic multinodular goiteropen wound of the fingerautonomic nervous system disorderpsychosexual disorderanemiatendinitiscommon coldamyotrophic lateral sclerosis (als)central retinal artery or vein occlusionparoxysmal supraventricular tachycardiavenous insufficiencytrichomonas infectionacnedepressiondrug abuseurinary tract obstructiondiabetes insipidusiridocyclitisvaricocele of the testiclesirritable bowel syndromefracture of the footovarian cystchlamydiaparasitic diseasefracture of the jawlipomafemale genitalia infectionpulmonary hypertensionthyroid nodulebroken toothdumping syndromelymphadenitisinjury to the faceaortic valve diseaserheumatoid arthritisspermatoceleimpetigoanal fistulahypothermiaoppositional disordermigrainediabetic peripheral neuropathytesticular disordergestational diabeteshidradenitis suppurativavalley feverconjunctivitis due to bacterialewy body dementiamultiple myelomahead injuryascending cholangitisidiopathic irregular menstrual cycleinterstitial lung diseasemononeuritismalariasomatization disorderhypovolemiaschizophreniaknee ligament or meniscus tearendocarditissepsisheat strokecholecystitiscardiac arrestcardiomyopathysocial phobiameningitisspherocytosishormone disorderraynaud diseasereactive arthritisscabiesear wax impactionhypertension of pregnancyperipheral arterial embolismrosaceafracture of the skulluveitisfracture of the facial bonestracheitisjaw disorderperirectal infectionbreast cystpost-traumatic stress disorder (ptsd)kidney cancervulvar cancerblepharitisceliac diseasecystitissickle cell anemiasubconjunctival hemorrhagehemorrhoidscontact dermatitissinus bradycardiahigh blood pressurepelvic inflammatory diseaseliver diseasechronic constipationthyroid cancerflufriedrich ataxiatic (movement) disorderskin polypbrachial neuritiscervical canceradrenal adenomaesophagitisgas gangreneyeast infectionspina bifidadrug poisoning due to medicationalcoholic liver diseasemalignant hypertensiondiverticulitismoyamoya diseaseheat exhaustionpsychotic disorderfrostbiteatrophy of the corpus cavernosumsmoking or tobacco addictionsprain or strainessential tremoropen wound of the earforeign body in the noseidiopathic painful menstruationdown syndromeidiopathic infrequent menstruationpneumothoraxde quervain diseasefracture of the vertebrahuman immunodeficiency virus infection (hiv)mumpssubarachnoid hemorrhageacute fatty liver of pregnancy (aflp)ectropionscarlactose intoleranceeustachian tube dysfunction (ear disorder)appendicitisgraves diseasedissociative disorderopen wound of the facedislocation of the vertebraphimosishyperemesis gravidarumpregnancythalassemiaplacenta previaepidural hemorrhageseptic arthritisathlete's footpleural effusionaphakiavulvar disordersialoadenitisgynecomastiaurinary tract infectionhistoplasmosiserythema multiformescoliosisbunionarrhythmiatrigeminal neuralgiaankylosing spondylitisperipheral nerve disordersebaceous cystpoisoning due to antipsychoticsneurosisprostate cancercerebral edemadislocation of the fingerbirth traumachronic pancreatitishematomacarcinoid syndromeopen wound of the headseborrheic keratosisburnspontaneous abortiongenital herpesadjustment reactiongallstonemultiple sclerosiszenker diverticulumfracture of the pelvispneumoconiosishyperlipidemiaulcerative colitismale genitalia infectionhpvanginainjury to the spinal cordnasal polyplichen simplextrichiasisacariasiscolorectal cancerskin pigmentation disorderfactitious disorderlymphogranuloma venereumgalactorrhea of unknown causeg6pd enzyme deficiencynerve impingement near the shouldertoxoplasmosisfibroadenomaopen wound of the handmissed abortiondiabetic ketoacidosisgranuloma inguinaleobsessive compulsive disorder (ocd)injury of the anklehyponatremiastricture of the esophagusfracture of the anklesoft tissue sarcomabone disorderepilepsypersonality disordershingles (herpes zoster)tourette syndromeavascular necrosisstrep throatspinocerebellar ataxiaosteomyelitissjogren syndromeadhesive capsulitis of the shoulderviral hepatitistonsillar hypertrophygastritisskin cancerrheumatic feveraphthous ulcertonsillitisintestinal cancerrocky mountain spotted feverstomach cancerdevelopmental disabilityacute stress reactiondeliriumcallusguillain barre syndromelumbagodeviated nasal septumhemangiomaperipheral arterial diseasechronic back painheart failureconjunctivitisherniated diskrhabdomyolysisbreast infection (mastitis)abdominal aortic aneurysmpulmonary embolismconduct disordermastectomyepididymitispremature rupture of amniotic membranemolluscum contagiosumnecrotizing fasciitisbenign vaginal discharge (leukorrhea)bladder obstructionmelanomacervical disorderlaryngitisdyshidrosispoisoning due to opioidsdiaper rashlichen planusgastroduodenal ulceringuinal herniaeczemaasperger syndromemucositisparonychiaopen wound of the jawwhite blood cell diseasekaposi sarcomaspondylolisthesispseudotumor cerebriconjunctivitis due to virusopen wound of the nose\n"
     ]
    }
   ],
   "source": [
    "diseases = all_separated_symptoms['disease'].unique()\n",
    "print(diseases)"
   ]
  }
 ],
 "metadata": {
  "kernelspec": {
   "display_name": "base",
   "language": "python",
   "name": "python3"
  },
  "language_info": {
   "codemirror_mode": {
    "name": "ipython",
    "version": 3
   },
   "file_extension": ".py",
   "mimetype": "text/x-python",
   "name": "python",
   "nbconvert_exporter": "python",
   "pygments_lexer": "ipython3",
   "version": "3.11.5"
  }
 },
 "nbformat": 4,
 "nbformat_minor": 5
}
